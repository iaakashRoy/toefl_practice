{
 "cells": [
  {
   "cell_type": "code",
   "execution_count": 2,
   "metadata": {},
   "outputs": [
    {
     "name": "stdout",
     "output_type": "stream",
     "text": [
      "Here is a text passage on the topic of language acquisition:\n",
      "\n",
      "Language Acquisition: The Key to Unlocking Human Communication\n",
      "\n",
      "The ability to acquire language is a fundamental aspect of human communication, enabling us to convey thoughts, express emotions, and form connections with others. From birth, humans are wired to learn language, and this process begins as early as infancy. Infants as young as six months old are capable of recognizing and imitating the sounds and rhythms of their native language, laying the foundation for future language development.\n",
      "\n",
      "Research in linguistics and cognitive psychology has shed light on the mechanisms underlying language acquisition. One of the most significant findings is that children's brains are remarkably adaptable, allowing them to absorb and process linguistic structures, sounds, and rules without explicit instruction. This phenomenon is often referred to as \"entrenchment,\" whereby children internalize language patterns and rules through repeated exposure and usage.\n",
      "\n",
      "Additionally, the role of context and environment has been found to play a crucial role in language acquisition. Children learn language by being immersed in it, whether it's through watching family members converse, listening to music and stories, or engaging in play with peers. This environment-driven learning is often referred to as \"apprenticeship\" or \"social learning,\" as children learn through observation and participation.\n",
      "\n",
      "Furthermore, recent advances in neuroscience have revealed the neural basis of language acquisition, highlighting the complex interplay between cognitive, linguistic, and emotional processes. For instance, studies have shown that the development of language skills is closely linked to the growth of the grey matter in specific brain regions, such as the left hemisphere and the posterior superior temporal gyrus.\n",
      "\n",
      "The significance of language acquisition extends beyond the individual, as it facilitates collective understanding, social cohesion, and cultural preservation. Language is not simply a vehicle for communication but also a powerful tool for identity formation, cultural transmission, and social solidarity. The dialects, idioms, and linguistic nuances that shape our communication reflect our cultural heritage, community values, and history.\n",
      "\n",
      "In recent years, the quest for effective language learning strategies has been of great interest, particularly in the context of multicultural education and language instruction. Researchers have identified several key factors, including explicit instruction, scaffolding, and feedback, that can enhance language acquisition, especially in formal educational settings. Furthermore, the use of technology, such as language learning apps and virtual reality platforms, is promising new frontiers in language acquisition, as it offers new avenues for interactive learning and practice.\n",
      "\n",
      "In conclusion, language acquisition is a fascinating and complex process that has captivated linguists, cognitive scientists, and educators for centuries. By exploring the biological, social, and cultural factors that underpin this process, we can gain a deeper understanding of the intricate mechanisms that enable human communication. Moreover, a comprehensive understanding of language acquisition can inform effective language instruction, promote linguistic diversity, and unlock the full potential of human language, ultimately contributing to a more connected and culturally rich world.\n",
      "\n",
      "This text passage is approximately 670 words and covers various aspects of language acquisition, including early childhood language development, cognitive and neural processes, social and environmental factors, and the significance of language acquisition in human communication and cultural preservation.\n"
     ]
    }
   ],
   "source": [
    "import os\n",
    "\n",
    "from groq import Groq\n",
    "\n",
    "client = Groq(\n",
    "    api_key=os.environ.get(\"GROQ_API_KEY\"),\n",
    ")\n",
    "\n",
    "chat_completion = client.chat.completions.create(\n",
    "    messages=[\n",
    "        {\n",
    "            \"role\": \"user\",\n",
    "            \"content\": \"Generate a text passage of approximately 600-700 words on any academic or general topic suitable for a TOEFL reading section.\",\n",
    "        }\n",
    "    ],\n",
    "    model=\"llama3-8b-8192\",\n",
    ")\n",
    "\n",
    "\n",
    "print(chat_completion.choices[0].message.content)"
   ]
  },
  {
   "cell_type": "code",
   "execution_count": null,
   "metadata": {},
   "outputs": [],
   "source": [
    "data_json = {\"passage\": chat_completion.choices[0].message.content}"
   ]
  },
  {
   "cell_type": "code",
   "execution_count": 4,
   "metadata": {},
   "outputs": [
    {
     "data": {
      "text/plain": [
       "{'passage': 'Here is a text passage on the topic of language acquisition:\\n\\nLanguage Acquisition: The Key to Unlocking Human Communication\\n\\nThe ability to acquire language is a fundamental aspect of human communication, enabling us to convey thoughts, express emotions, and form connections with others. From birth, humans are wired to learn language, and this process begins as early as infancy. Infants as young as six months old are capable of recognizing and imitating the sounds and rhythms of their native language, laying the foundation for future language development.\\n\\nResearch in linguistics and cognitive psychology has shed light on the mechanisms underlying language acquisition. One of the most significant findings is that children\\'s brains are remarkably adaptable, allowing them to absorb and process linguistic structures, sounds, and rules without explicit instruction. This phenomenon is often referred to as \"entrenchment,\" whereby children internalize language patterns and rules through repeated exposure and usage.\\n\\nAdditionally, the role of context and environment has been found to play a crucial role in language acquisition. Children learn language by being immersed in it, whether it\\'s through watching family members converse, listening to music and stories, or engaging in play with peers. This environment-driven learning is often referred to as \"apprenticeship\" or \"social learning,\" as children learn through observation and participation.\\n\\nFurthermore, recent advances in neuroscience have revealed the neural basis of language acquisition, highlighting the complex interplay between cognitive, linguistic, and emotional processes. For instance, studies have shown that the development of language skills is closely linked to the growth of the grey matter in specific brain regions, such as the left hemisphere and the posterior superior temporal gyrus.\\n\\nThe significance of language acquisition extends beyond the individual, as it facilitates collective understanding, social cohesion, and cultural preservation. Language is not simply a vehicle for communication but also a powerful tool for identity formation, cultural transmission, and social solidarity. The dialects, idioms, and linguistic nuances that shape our communication reflect our cultural heritage, community values, and history.\\n\\nIn recent years, the quest for effective language learning strategies has been of great interest, particularly in the context of multicultural education and language instruction. Researchers have identified several key factors, including explicit instruction, scaffolding, and feedback, that can enhance language acquisition, especially in formal educational settings. Furthermore, the use of technology, such as language learning apps and virtual reality platforms, is promising new frontiers in language acquisition, as it offers new avenues for interactive learning and practice.\\n\\nIn conclusion, language acquisition is a fascinating and complex process that has captivated linguists, cognitive scientists, and educators for centuries. By exploring the biological, social, and cultural factors that underpin this process, we can gain a deeper understanding of the intricate mechanisms that enable human communication. Moreover, a comprehensive understanding of language acquisition can inform effective language instruction, promote linguistic diversity, and unlock the full potential of human language, ultimately contributing to a more connected and culturally rich world.\\n\\nThis text passage is approximately 670 words and covers various aspects of language acquisition, including early childhood language development, cognitive and neural processes, social and environmental factors, and the significance of language acquisition in human communication and cultural preservation.'}"
      ]
     },
     "execution_count": 4,
     "metadata": {},
     "output_type": "execute_result"
    }
   ],
   "source": [
    "data_json"
   ]
  },
  {
   "cell_type": "code",
   "execution_count": 36,
   "metadata": {},
   "outputs": [
    {
     "name": "stdout",
     "output_type": "stream",
     "text": [
      "[\n",
      "    [\"What is the age at which infants are capable of recognizing and imitating the sounds and rhythms of their native language?\", \"One month\", \"Six months\", \"One year\", 2],\n",
      "    [\"What is the phenomenon often referred to as 'entrenchment' in language acquisition?\", \"Children's brains are rigid and inflexible\", \"Children internalize language patterns and rules through repeated exposure and usage\", \"Children only learn language through explicit instruction\", 2],\n",
      "    [\"What is the term used to describe the way children learn language through observation and participation in their environment?\", \"Apprenticeship\", \"Social learning\", \"Language acquisition\", 1],\n",
      "    [\"What is a result of language acquisition, according to the passage?\", \"It only enables individuals to communicate with each other\", \"It facilitates collective understanding, social cohesion, and cultural preservation\", \"It only affects an individual's spoken language\", 2]\n",
      "]\n"
     ]
    }
   ],
   "source": [
    "prompt = f\"\"\"\n",
    "Based on the passage: {data_json[\"passage\"]}, create 4 multiple-choice questions based on the content of the passage, similar to those found in the TOEFL exam. Each question should have four answer options. Indicate the correct answer in the array response format provided below:\n",
    "\n",
    "    [\n",
    "        [\"question 1\",\n",
    "        \"option 1\",\n",
    "        \"option 2\",\n",
    "        \"option 3\",\n",
    "        \"option 4\",\n",
    "        \"1\" -> correct\n",
    "        ],\n",
    "        [\"question 2\",\n",
    "        \"option 1\",\n",
    "        \"option 2\",\n",
    "        \"option 3\",\n",
    "        \"option 4\",\n",
    "        \"4\" -> correct\n",
    "        ],\n",
    "        ...\n",
    "        [\"question 4\",\n",
    "        \"option 1\",\n",
    "        \"option 2\",\n",
    "        \"option 3\",\n",
    "        \"option 4\",\n",
    "        \"2\" -> correct\n",
    "        ]\n",
    "        ]\n",
    "\n",
    "        Make sure, the output is strictly and only the in array without any welcome message or any other text.\n",
    "        chek proper array format and all the brackets.\n",
    "    \n",
    "\"\"\"\n",
    "\n",
    "chat_completion = client.chat.completions.create(\n",
    "    messages=[\n",
    "        {\n",
    "            \"role\": \"user\",\n",
    "            \"content\": prompt,\n",
    "        }\n",
    "    ],\n",
    "    model=\"llama3-8b-8192\",\n",
    ")\n",
    "\n",
    "pre_question_answers = chat_completion.choices[0].message.content\n",
    "\n",
    "prompt_2 = f\"\"\"\n",
    "You have to check the array file: {pre_question_answers} if any bracket is not closed or the structure. Make sure the array is in the correct format and all the brackets are closed properly.\n",
    "Give only the final array file as the output without any welcome message or any other text.\n",
    "\"\"\"\n",
    "\n",
    "chat_completion = client.chat.completions.create(\n",
    "    messages=[\n",
    "        {\n",
    "            \"role\": \"user\",\n",
    "            \"content\": prompt_2,\n",
    "        }\n",
    "    ],\n",
    "    model=\"llama3-8b-8192\",\n",
    ")\n",
    "\n",
    "print(chat_completion.choices[0].message.content)"
   ]
  },
  {
   "cell_type": "code",
   "execution_count": 37,
   "metadata": {},
   "outputs": [],
   "source": [
    "data_json[\"questions_and_options\"] = eval(chat_completion.choices[0].message.content)"
   ]
  },
  {
   "cell_type": "code",
   "execution_count": 38,
   "metadata": {},
   "outputs": [
    {
     "data": {
      "text/plain": [
       "{'passage': 'Here is a text passage on the topic of language acquisition:\\n\\nLanguage Acquisition: The Key to Unlocking Human Communication\\n\\nThe ability to acquire language is a fundamental aspect of human communication, enabling us to convey thoughts, express emotions, and form connections with others. From birth, humans are wired to learn language, and this process begins as early as infancy. Infants as young as six months old are capable of recognizing and imitating the sounds and rhythms of their native language, laying the foundation for future language development.\\n\\nResearch in linguistics and cognitive psychology has shed light on the mechanisms underlying language acquisition. One of the most significant findings is that children\\'s brains are remarkably adaptable, allowing them to absorb and process linguistic structures, sounds, and rules without explicit instruction. This phenomenon is often referred to as \"entrenchment,\" whereby children internalize language patterns and rules through repeated exposure and usage.\\n\\nAdditionally, the role of context and environment has been found to play a crucial role in language acquisition. Children learn language by being immersed in it, whether it\\'s through watching family members converse, listening to music and stories, or engaging in play with peers. This environment-driven learning is often referred to as \"apprenticeship\" or \"social learning,\" as children learn through observation and participation.\\n\\nFurthermore, recent advances in neuroscience have revealed the neural basis of language acquisition, highlighting the complex interplay between cognitive, linguistic, and emotional processes. For instance, studies have shown that the development of language skills is closely linked to the growth of the grey matter in specific brain regions, such as the left hemisphere and the posterior superior temporal gyrus.\\n\\nThe significance of language acquisition extends beyond the individual, as it facilitates collective understanding, social cohesion, and cultural preservation. Language is not simply a vehicle for communication but also a powerful tool for identity formation, cultural transmission, and social solidarity. The dialects, idioms, and linguistic nuances that shape our communication reflect our cultural heritage, community values, and history.\\n\\nIn recent years, the quest for effective language learning strategies has been of great interest, particularly in the context of multicultural education and language instruction. Researchers have identified several key factors, including explicit instruction, scaffolding, and feedback, that can enhance language acquisition, especially in formal educational settings. Furthermore, the use of technology, such as language learning apps and virtual reality platforms, is promising new frontiers in language acquisition, as it offers new avenues for interactive learning and practice.\\n\\nIn conclusion, language acquisition is a fascinating and complex process that has captivated linguists, cognitive scientists, and educators for centuries. By exploring the biological, social, and cultural factors that underpin this process, we can gain a deeper understanding of the intricate mechanisms that enable human communication. Moreover, a comprehensive understanding of language acquisition can inform effective language instruction, promote linguistic diversity, and unlock the full potential of human language, ultimately contributing to a more connected and culturally rich world.\\n\\nThis text passage is approximately 670 words and covers various aspects of language acquisition, including early childhood language development, cognitive and neural processes, social and environmental factors, and the significance of language acquisition in human communication and cultural preservation.',\n",
       " 'questions_and_options': [['What is the age at which infants are capable of recognizing and imitating the sounds and rhythms of their native language?',\n",
       "   'One month',\n",
       "   'Six months',\n",
       "   'One year',\n",
       "   2],\n",
       "  [\"What is the phenomenon often referred to as 'entrenchment' in language acquisition?\",\n",
       "   \"Children's brains are rigid and inflexible\",\n",
       "   'Children internalize language patterns and rules through repeated exposure and usage',\n",
       "   'Children only learn language through explicit instruction',\n",
       "   2],\n",
       "  ['What is the term used to describe the way children learn language through observation and participation in their environment?',\n",
       "   'Apprenticeship',\n",
       "   'Social learning',\n",
       "   'Language acquisition',\n",
       "   1],\n",
       "  ['What is a result of language acquisition, according to the passage?',\n",
       "   'It only enables individuals to communicate with each other',\n",
       "   'It facilitates collective understanding, social cohesion, and cultural preservation',\n",
       "   \"It only affects an individual's spoken language\",\n",
       "   2]]}"
      ]
     },
     "execution_count": 38,
     "metadata": {},
     "output_type": "execute_result"
    }
   ],
   "source": [
    "data_json"
   ]
  },
  {
   "cell_type": "code",
   "execution_count": 3,
   "metadata": {},
   "outputs": [
    {
     "name": "stdout",
     "output_type": "stream",
     "text": [
      " This is your listening prompt.\n"
     ]
    }
   ],
   "source": [
    "import os\n",
    "from groq import Groq\n",
    "\n",
    "# Initialize the Groq client\n",
    "client = Groq()\n",
    "\n",
    "# Specify the path to the audio file\n",
    "filename = \"/Users/aakashroy/Downloads/toefl_test/listening_prompt.mp3\" # Replace with your audio file!\n",
    "\n",
    "# Open the audio file\n",
    "with open(filename, \"rb\") as file:\n",
    "    # Create a transcription of the audio file\n",
    "    transcription = client.audio.transcriptions.create(\n",
    "      file=(filename, file.read()), # Required audio file\n",
    "      model=\"distil-whisper-large-v3-en\", # Required model to use for transcription\n",
    "      prompt=\"Specify context or spelling\",  # Optional\n",
    "      response_format=\"json\",  # Optional\n",
    "      language=\"en\",  # Optional\n",
    "      temperature=0.0  # Optional\n",
    "    )\n",
    "    # Print the transcription text\n",
    "    print(transcription.text)"
   ]
  },
  {
   "cell_type": "code",
   "execution_count": 1,
   "metadata": {},
   "outputs": [
    {
     "data": {
      "text/plain": [
       "True"
      ]
     },
     "execution_count": 1,
     "metadata": {},
     "output_type": "execute_result"
    }
   ],
   "source": [
    "from dotenv import load_dotenv\n",
    "load_dotenv()"
   ]
  },
  {
   "cell_type": "code",
   "execution_count": null,
   "metadata": {},
   "outputs": [],
   "source": []
  },
  {
   "cell_type": "code",
   "execution_count": 1,
   "metadata": {},
   "outputs": [],
   "source": [
    "from reading import ReadingGenerator\n",
    "from listening import ListeningGenerator"
   ]
  },
  {
   "cell_type": "code",
   "execution_count": 2,
   "metadata": {},
   "outputs": [],
   "source": [
    "reading = ReadingGenerator()"
   ]
  },
  {
   "cell_type": "code",
   "execution_count": 3,
   "metadata": {},
   "outputs": [],
   "source": [
    "data = reading.create_reading_resource(\"kolkata\")"
   ]
  },
  {
   "cell_type": "code",
   "execution_count": 4,
   "metadata": {},
   "outputs": [
    {
     "data": {
      "text/plain": [
       "{'passage': 'Kolkata, the \"City of Joy\", has been a hub of cultural and intellectual activity for centuries. As the capital of India\\'s eastern state of West Bengal, Kolkata has played a significant role in the country\\'s struggle for independence and its subsequent growth and development. Today, the city is home to some of India\\'s most prestigious institutions of higher learning, including the University of Calcutta, Jadavpur University, and Indian Institute of Management Calcutta.\\n\\nThe city\\'s rich cultural heritage is evident in its many museums and galleries, which showcase a wide range of Indian art, including Bengal School and Mughal art. The Victoria Memorial, a stunning white marble building dedicated to Queen Victoria, is one of the city\\'s most iconic landmarks. Another notable attraction is the Indian Museum, which houses an extensive collection of artifacts and exhibits that tell the story of India\\'s history and culture.\\n\\nKolkata has a long tradition of literary and artistic movements, which have been shaped by the city\\'s unique cultural landscape. The Bengali language, for instance, has a rich literary heritage, with many renowned poets and writers, such as Rabindranath Tagore and Bankim Chandra Chattopadhyay, hailing from the city. Kolkata\\'s vibrant street art scene is also worth exploring, with colorful murals and graffiti adorning the city\\'s walls and buildings.\\n\\nIn addition to its cultural attractions, Kolkata is also known for its vibrant food scene. The city\\'s street food, in particular, is a reflection of its history and diversity, with many popular dishes, such as jhal muri (puffed rice and other savory ingredients) and phuchka (deep-fried dough puris filled with spices and vegetables), having origins dating back centuries. Kolkata is also famous for its rich and creamy sweets, such as mishti doi (sweet yogurt) and sandesh (light, fluffy milk sweets).\\n\\nThe city is also a hub for business and commerce, with the Kolkata Stock Exchange and the Indian Currency and Finance (ICF) Market, two of India\\'s most important financial centers, located here. The city is also home to many major industries, including textiles, jute, and pharmaceuticals.\\n\\nDespite its many attractions, Kolkata also faces many challenges. The city struggles with issues of pollution, traffic congestion, and overcrowding, which are all contributing factors to the city\\'s poor air quality and living conditions. The city\\'s historic infrastructure is also in need of renovation, with many of its ancient buildings and streets requiring restoration.\\n\\nHowever, the city\\'s residents are determined to preserve its cultural and historical heritage, and many initiatives are underway to address the city\\'s challenges. For example, the Kolkata Heritage Development Society is working to restore the city\\'s historic buildings and monuments, while the Kolkata municipal corporation is implementing initiatives to reduce pollution and improve waste management.\\n\\nOverall, Kolkata is a city that is deeply proud of its heritage and is working to balance its rich cultural past with its future needs and challenges. Whether visiting for business or pleasure, visitors to Kolkata are sure to be struck by its vibrant energy and warm hospitality.\\n\\nHere are some important phrases and vocabulary that can be learned from this passage:\\n\\n* Cultural and intellectual activity\\n* Hub of activity\\n* Struggle for independence\\n* Prestigious institutions\\n* Iconic landmarks\\n* Literary and artistic movements\\n* Vibrant street art scene\\n* Street food\\n* Popular dishes\\n* Rich and creamy sweets\\n* Financial centers\\n* Major industries\\n* Challenges\\n* Pollution\\n* Traffic congestion\\n* Overcrowding\\n* Poor air quality\\n* Living conditions\\n* Infrastructure\\n* Restoration\\n* Cultural heritage\\n* Heritage development society\\n* Waste management\\n\\nSome potential questions that could be asked based on this passage include:\\n\\n* What is Kolkata known for?\\n* What are some of the city\\'s famous landmarks?\\n* What is the city\\'s literary and artistic heritage?\\n* What is the city\\'s food scene like?\\n* What are some of the city\\'s challenges?\\n* What is being done to address the city\\'s challenges?\\n* What is the city\\'s cultural heritage?\\n* What are some of the city\\'s major industries?',\n",
       " 'questions_and_options': [['What is Kolkata known as?',\n",
       "   'City of Joy',\n",
       "   'City of Culture',\n",
       "   'City of Business',\n",
       "   '1'],\n",
       "  ['Where is the University of Calcutta located?',\n",
       "   'New Delhi',\n",
       "   'Kolkata',\n",
       "   'Mumbai',\n",
       "   '2'],\n",
       "  ['What is the name of the famous building dedicated to Queen Victoria?',\n",
       "   'Victoria Memorial',\n",
       "   'Taj Mahal',\n",
       "   'Red Fort',\n",
       "   '1'],\n",
       "  ['What type of sweets is Kolkata famous for?',\n",
       "   'Sweet and Sour',\n",
       "   'Rich and Fluffy',\n",
       "   'Creamy and Crunchy',\n",
       "   '2']]}"
      ]
     },
     "execution_count": 4,
     "metadata": {},
     "output_type": "execute_result"
    }
   ],
   "source": [
    "data"
   ]
  },
  {
   "cell_type": "code",
   "execution_count": 2,
   "metadata": {},
   "outputs": [],
   "source": [
    "listening = ListeningGenerator()"
   ]
  },
  {
   "cell_type": "code",
   "execution_count": 3,
   "metadata": {},
   "outputs": [],
   "source": [
    "data = listening.create_listening_resource(\"/Users/aakashroy/Downloads/toefl_test/conv2.mp3\")"
   ]
  },
  {
   "cell_type": "code",
   "execution_count": 4,
   "metadata": {},
   "outputs": [
    {
     "data": {
      "text/plain": [
       "{'transcript': \" Good morning. Today we will explore the ancient history of India, particularly focusing on the cultural richness of Hinduism. Good morning. I'm really looking forward to this discussion. Hinduism has such a vast history. Absolutely. Hinduism is one of the oldest religions in the world with roots. that can be traced back over 4,000 years. What aspects of its cultural richness interests you the most? What I find the concept of Dharma fascinating. It seems to guide ethical behavior and duty in Hindu culture. That's a great point. Dharma is indeed a core principle in Hinduism. It influences, but only personal behavior, but also social order. Can you think of examples from ancient text? to illustrate this? Yes, the Mahabharata and Ramayana contain many stories that highlight the importance of Dharma. Characters like Arjuna and Rama face dilemmas that test their understanding of duty. Exactly. These epics serve as moral and ethical guides showcasing the complexities of human behavior. How do you think these texts have shaped contemporary Indian society I believe they still play a significant role in shaping values and beliefs in modern India Festivals rituals and even family dynamics often reflect the teachings from these epics That's a keen observation. Festivals like the Vali and the Rattri are deeply rooted in Hinden mythology and serve as a way to connect with ancient traditions. Have you participated in any such festival? Yes, I have. Celebrating Davali with my family every year is a cherished tradition that makes me feel connected to my heritage. That connection to heritage is vital. It fosters a sense of identity and community. What other aspects of Hindu culture do you think contribute to this richness? Art and architecture are significant, too. Kempels like the Briades War are Kempel showcase intricate carvings in design reflecting the devotion and craftsmanship of that era. Well said, the architectural marvels of ancient India not only serve religious purposes, but also represent the advanced engineering and artistic skills of the time. It's fascinating how these elements of culture have endured. It really is. I think, I think, understanding this, this history is essential for appreciating modern Indian culture as well.\",\n",
       " 'questions_and_options': [['What aspect of Hinduism does the speaker find fascinating?',\n",
       "   'The concept of Karma',\n",
       "   'The concept of Dharma',\n",
       "   'The concept of Reincarnation',\n",
       "   'The concept of Nirvana',\n",
       "   4],\n",
       "  ['What is the significance of the Mahabharata and Ramayana in Hindu culture?',\n",
       "   'They serve as historical records of ancient India',\n",
       "   'They are ancient texts that highlight the importance of Dharma',\n",
       "   'They are stories about the gods and goddesses',\n",
       "   'They are rituals practiced in Hindu festivals',\n",
       "   2],\n",
       "  ['Why is understanding ancient Indian culture important, according to the speaker?',\n",
       "   'To learn about the history of India',\n",
       "   'To appreciate modern Indian culture',\n",
       "   'To understand the concept of Dharma',\n",
       "   'To learn about Hindu festivals',\n",
       "   2]]}"
      ]
     },
     "execution_count": 4,
     "metadata": {},
     "output_type": "execute_result"
    }
   ],
   "source": [
    "data"
   ]
  },
  {
   "cell_type": "code",
   "execution_count": null,
   "metadata": {},
   "outputs": [],
   "source": []
  }
 ],
 "metadata": {
  "kernelspec": {
   "display_name": ".venv",
   "language": "python",
   "name": "python3"
  },
  "language_info": {
   "codemirror_mode": {
    "name": "ipython",
    "version": 3
   },
   "file_extension": ".py",
   "mimetype": "text/x-python",
   "name": "python",
   "nbconvert_exporter": "python",
   "pygments_lexer": "ipython3",
   "version": "3.12.2"
  }
 },
 "nbformat": 4,
 "nbformat_minor": 2
}
